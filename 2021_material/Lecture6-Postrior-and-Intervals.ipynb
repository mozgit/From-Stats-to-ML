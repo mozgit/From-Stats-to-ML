{
 "cells": [
  {
   "cell_type": "markdown",
   "id": "8fa00a5d",
   "metadata": {},
   "source": [
    "# Апостериорная вероятность"
   ]
  },
  {
   "cell_type": "code",
   "execution_count": 4,
   "id": "fdc04726",
   "metadata": {},
   "outputs": [],
   "source": [
    "import matplotlib.pyplot as plt\n",
    "from scipy.stats import gamma, norm, uniform\n",
    "from functools import reduce\n",
    "import numpy as np\n",
    "import matplotlib\n",
    "matplotlib.rc('font', size=22)\n",
    "matplotlib.rc('animation', html='html5')\n",
    "bigfontsize=20\n",
    "labelfontsize=16\n",
    "tickfontsize=16\n",
    "plt.rcParams.update({'font.size': bigfontsize,\n",
    "                     'axes.labelsize':labelfontsize,\n",
    "                     'xtick.labelsize':tickfontsize,\n",
    "                     'ytick.labelsize':tickfontsize,\n",
    "                     'legend.fontsize':tickfontsize,\n",
    "                     })\n",
    "\n",
    "\n"
   ]
  },
  {
   "cell_type": "markdown",
   "id": "82f0c84e",
   "metadata": {},
   "source": [
    "Итак, функция правдоподобия описывает вероятность получить наши значения выборки $\\mathcal{D}$ при условии того что модель задается какими-то параметрами $\\theta$:\n",
    "\n",
    "$$ \\mathcal{L}(\\mathcal{D}|\\theta) $$"
   ]
  },
  {
   "cell_type": "markdown",
   "id": "4ac2b630",
   "metadata": {},
   "source": [
    "Используя формулу Байеса, можно преобразовать функцию правдоподобия в функцию плотности вероятности значений модели при условии наблюдения нашего набора данных:\n",
    "\n",
    "$$p(\\theta|\\mathcal{D}) = \\frac{\\mathcal{L}(\\mathcal{D}|\\theta)p(\\theta)}{p(\\mathcal{D})}\\equiv  \\frac{\\mathcal{L}(\\mathcal{D}|\\theta)p(\\theta)}{\\int p(\\theta^\\prime)\\mathcal{L}(\\mathcal{D}|\\theta^\\prime)d\\theta^\\prime}$$"
   ]
  },
  {
   "cell_type": "markdown",
   "id": "e5b5582e",
   "metadata": {},
   "source": [
    "$p(\\theta)$ называется априроным распределением и отражает наши представления о параметре до начала измерений, а $\\int p(\\theta^\\prime)\\mathcal{L}(\\mathcal{D}|\\theta^\\prime)d\\theta^\\prime$ назыается маргинальной функцие правдоподобия и по сути яваляется нормировкой. Вероятность $p(\\theta|\\mathcal{D})$ называется апостериорной вероятностью."
   ]
  },
  {
   "cell_type": "markdown",
   "id": "1c1df596",
   "metadata": {},
   "source": [
    "Максимизация апостериорной вероятности дает оценку параметров с учетом априорного знания - в отличие от наибольшего правдоподобия."
   ]
  },
  {
   "cell_type": "markdown",
   "id": "b9e95459",
   "metadata": {},
   "source": [
    "Как и функция правдоподобия, априорная вероятность максимизируется через минимизацию отрицательного логарифма:\n",
    "    \n",
    "$$ - \\log p(\\theta|\\mathcal{D}) = -\\log\\mathcal{L}(\\mathcal{D}|\\theta)-\\log p(\\theta)+\\log p(\\mathcal{D}) \\equiv  -\\log\\mathcal{L}(\\mathcal{D}|\\theta)-\\log p(\\theta)+C$$"
   ]
  },
  {
   "cell_type": "markdown",
   "id": "10aa7956",
   "metadata": {},
   "source": [
    "Разница с NLL заключается в дополнительном слагаемом $-\\log p(\\mathcal{D})$ и константе"
   ]
  },
  {
   "cell_type": "markdown",
   "id": "c4379209",
   "metadata": {},
   "source": [
    "## Распределение Бернулли"
   ]
  },
  {
   "cell_type": "markdown",
   "id": "e8f4f517",
   "metadata": {},
   "source": [
    "Начнем с простейшего примера. Допустим, мы хотим определить параметр $\\theta$ распределения Бернулли. "
   ]
  },
  {
   "cell_type": "markdown",
   "id": "81b0e35d",
   "metadata": {},
   "source": [
    "Зададим априорное распределение параметра:"
   ]
  },
  {
   "cell_type": "code",
   "execution_count": 2,
   "id": "5b30f57e",
   "metadata": {},
   "outputs": [],
   "source": [
    "from scipy.stats import beta\n",
    "prior = beta(2, 2)"
   ]
  },
  {
   "cell_type": "code",
   "execution_count": 6,
   "id": "296a5d64",
   "metadata": {},
   "outputs": [
    {
     "name": "stderr",
     "output_type": "stream",
     "text": [
      "No handles with labels found to put in legend.\n"
     ]
    },
    {
     "data": {
      "text/plain": [
       "<matplotlib.legend.Legend at 0x13ad19fa0>"
      ]
     },
     "execution_count": 6,
     "metadata": {},
     "output_type": "execute_result"
    },
    {
     "data": {
      "image/png": "[encoded data removed]",
      "text/plain": [
       "<Figure size 432x288 with 1 Axes>"
      ]
     },
     "metadata": {
      "needs_background": "light"
     },
     "output_type": "display_data"
    }
   ],
   "source": [
    "plt.plot(np.linspace(0, 1,100),prior.pdf(np.linspace(0, 1,100)))\n",
    "plt.xlabel(\"Априроное распределеие\")\n",
    "plt.legend()"
   ]
  },
  {
   "cell_type": "markdown",
   "id": "87a27790",
   "metadata": {},
   "source": [
    "Просимулирем данные с истинным значением параметра $\\theta = 0.1$"
   ]
  },
  {
   "cell_type": "code",
   "execution_count": 7,
   "id": "dce34f6d",
   "metadata": {},
   "outputs": [],
   "source": [
    "from scipy.stats import bernoulli\n",
    "p_true = 0.1\n",
    "x = bernoulli(p_true).rvs(1000)"
   ]
  },
  {
   "cell_type": "markdown",
   "id": "8d8c2286",
   "metadata": {},
   "source": [
    "Зададим функцию правдоподобия"
   ]
  },
  {
   "cell_type": "code",
   "execution_count": 15,
   "id": "487707a7",
   "metadata": {},
   "outputs": [],
   "source": [
    "def likelihood(x,theta):\n",
    "    return np.prod(bernoulli(theta).pmf(x))"
   ]
  },
  {
   "cell_type": "markdown",
   "id": "afa7c5f5",
   "metadata": {},
   "source": [
    "Зададим маргинальную функцию правдоподобия"
   ]
  },
  {
   "cell_type": "code",
   "execution_count": 16,
   "id": "70a1ad1e",
   "metadata": {},
   "outputs": [],
   "source": [
    "def marg_likelihood(x):\n",
    "    return np.sum(\n",
    "            [\n",
    "                np.prod(\n",
    "                        bernoulli(theta).pmf(x)\n",
    "                        )*0.01 \n",
    "                for theta in np.linspace(0, 1, 100)\n",
    "            ])"
   ]
  },
  {
   "cell_type": "code",
   "execution_count": 17,
   "id": "89be80db",
   "metadata": {},
   "outputs": [],
   "source": [
    "def posterior(x, theta):\n",
    "    return likelihood(x,theta)*prior.pdf(theta)/ marg_likelihood(x)"
   ]
  },
  {
   "cell_type": "markdown",
   "id": "9270f3f6",
   "metadata": {},
   "source": [
    "Посмотрим как меняется апостериорная вероятность в зависимости от количества набранных данных"
   ]
  },
  {
   "cell_type": "code",
   "execution_count": null,
   "id": "934ae672",
   "metadata": {},
   "outputs": [],
   "source": [
    "thetas = np.linspace(0, 1, 100)"
   ]
  },
  {
   "cell_type": "code",
   "execution_count": 19,
   "id": "2fb7f7ea",
   "metadata": {},
   "outputs": [],
   "source": [
    "posterior_0 = [posterior([],theta) for theta in thetas]"
   ]
  },
  {
   "cell_type": "code",
   "execution_count": 20,
   "id": "283b32b9",
   "metadata": {},
   "outputs": [],
   "source": [
    "posterior_1 = [posterior(x[:1],theta) for theta in thetas]"
   ]
  },
  {
   "cell_type": "code",
   "execution_count": 21,
   "id": "c29b8ae2",
   "metadata": {},
   "outputs": [],
   "source": [
    "posterior_5 = [posterior(x[:5],theta) for theta in thetas]"
   ]
  },
  {
   "cell_type": "code",
   "execution_count": 22,
   "id": "d67b8b3f",
   "metadata": {},
   "outputs": [],
   "source": [
    "posterior_10 = [posterior(x[:10],theta) for theta in thetas]"
   ]
  },
  {
   "cell_type": "code",
   "execution_count": 25,
   "id": "449b59aa",
   "metadata": {},
   "outputs": [],
   "source": [
    "posterior_100 = [posterior(x[:100],theta) for theta in thetas]"
   ]
  },
  {
   "cell_type": "code",
   "execution_count": 31,
   "id": "f09c0a2a",
   "metadata": {},
   "outputs": [
    {
     "data": {
      "text/plain": [
       "<matplotlib.legend.Legend at 0x13ae06ac0>"
      ]
     },
     "execution_count": 31,
     "metadata": {},
     "output_type": "execute_result"
    },
    {
     "data": {
      "image/png": "[encoded data removed]",
      "text/plain": [
       "<Figure size 432x288 with 1 Axes>"
      ]
     },
     "metadata": {
      "needs_background": "light"
     },
     "output_type": "display_data"
    }
   ],
   "source": [
    "plt.plot(thetas,posterior_0, label = \"Без данных\")\n",
    "plt.plot(thetas,posterior_1, label = \"1 точка\")\n",
    "plt.plot(thetas,posterior_5, label = \"5 точек\")\n",
    "plt.plot(thetas,posterior_10, label = \"10 точек\")\n",
    "plt.plot(thetas,posterior_100, label = \"100 точек\")\n",
    "plt.axvline(p_true, color = \"red\")\n",
    "plt.xlabel(\"Априроное распределеие\")\n",
    "plt.legend()"
   ]
  },
  {
   "cell_type": "markdown",
   "id": "0975beb9",
   "metadata": {},
   "source": [
    "## Нормальное распределение"
   ]
  },
  {
   "cell_type": "markdown",
   "id": "3c8dbd51",
   "metadata": {},
   "source": [
    "Зададим априорное распределение"
   ]
  },
  {
   "cell_type": "code",
   "execution_count": 32,
   "id": "f00d7ee0",
   "metadata": {},
   "outputs": [],
   "source": [
    "from scipy.stats import norm\n",
    "prior = norm(1, 3)"
   ]
  },
  {
   "cell_type": "markdown",
   "id": "f35984ef",
   "metadata": {},
   "source": [
    "Зададим данные"
   ]
  },
  {
   "cell_type": "code",
   "execution_count": 33,
   "id": "8b9d7306",
   "metadata": {},
   "outputs": [],
   "source": [
    "mu_true = 2\n",
    "x = norm(mu_true, 1).rvs(1000)"
   ]
  },
  {
   "cell_type": "markdown",
   "id": "2124740a",
   "metadata": {},
   "source": [
    "Зададим функцию правдоподобия"
   ]
  },
  {
   "cell_type": "code",
   "execution_count": 34,
   "id": "405af904",
   "metadata": {},
   "outputs": [],
   "source": [
    "def likelihood(x,mu):\n",
    "    return np.prod(norm(mu, 1).pdf(x))"
   ]
  },
  {
   "cell_type": "markdown",
   "id": "752d6fe0",
   "metadata": {},
   "source": [
    "Зададим маргинальную функцию правдоподобия"
   ]
  },
  {
   "cell_type": "code",
   "execution_count": 40,
   "id": "ed0416cd",
   "metadata": {},
   "outputs": [],
   "source": [
    "def marg_likelihood(x):\n",
    "    return np.sum(\n",
    "            [\n",
    "                np.prod(\n",
    "                        norm(mu, 1).pdf(x)\n",
    "                        )*0.1 \n",
    "                for mu in np.linspace(-3, 7, 100)\n",
    "            ])"
   ]
  },
  {
   "cell_type": "markdown",
   "id": "9661108f",
   "metadata": {},
   "source": [
    "Зададим постериор"
   ]
  },
  {
   "cell_type": "code",
   "execution_count": 41,
   "id": "1a64be57",
   "metadata": {},
   "outputs": [],
   "source": [
    "def posterior(x, mu):\n",
    "    return likelihood(x,mu)*prior.pdf(mu)/ marg_likelihood(x)"
   ]
  },
  {
   "cell_type": "markdown",
   "id": "ef30bf5e",
   "metadata": {},
   "source": [
    "Посмотрим на зависимость постериора от данных"
   ]
  },
  {
   "cell_type": "code",
   "execution_count": 42,
   "id": "983197b4",
   "metadata": {},
   "outputs": [
    {
     "data": {
      "text/plain": [
       "<matplotlib.legend.Legend at 0x13affe280>"
      ]
     },
     "execution_count": 42,
     "metadata": {},
     "output_type": "execute_result"
    },
    {
     "data": {
      "image/png": "[encoded data removed]",
      "text/plain": [
       "<Figure size 432x288 with 1 Axes>"
      ]
     },
     "metadata": {
      "needs_background": "light"
     },
     "output_type": "display_data"
    }
   ],
   "source": [
    "mus = np.linspace(-3, 7, 100)\n",
    "posterior_0 = [posterior([],mu) for mu in mus]\n",
    "posterior_1 = [posterior(x[:1],mu) for mu in mus]\n",
    "posterior_5 = [posterior(x[:5],mu) for mu in mus]\n",
    "posterior_10 = [posterior(x[:10],mu) for mu in mus]\n",
    "posterior_100 = [posterior(x[:100],mu) for mu in mus]\n",
    "\n",
    "plt.plot(mus,posterior_0, label = \"Без данных\")\n",
    "plt.plot(mus,posterior_1, label = \"1 точка\")\n",
    "plt.plot(mus,posterior_5, label = \"5 точек\")\n",
    "plt.plot(mus,posterior_10, label = \"10 точек\")\n",
    "plt.plot(mus,posterior_100, label = \"100 точек\")\n",
    "plt.axvline(mu_true, color = \"red\")\n",
    "plt.xlabel(\"Априроное распределеие\")\n",
    "plt.legend()"
   ]
  },
  {
   "cell_type": "code",
   "execution_count": null,
   "id": "510cb0b5",
   "metadata": {},
   "outputs": [],
   "source": []
  }
 ],
 "metadata": {
  "kernelspec": {
   "display_name": "Python 3 (ipykernel)",
   "language": "python",
   "name": "python3"
  },
  "language_info": {
   "codemirror_mode": {
    "name": "ipython",
    "version": 3
   },
   "file_extension": ".py",
   "mimetype": "text/x-python",
   "name": "python",
   "nbconvert_exporter": "python",
   "pygments_lexer": "ipython3",
   "version": "3.8.9"
  }
 },
 "nbformat": 4,
 "nbformat_minor": 5
}
